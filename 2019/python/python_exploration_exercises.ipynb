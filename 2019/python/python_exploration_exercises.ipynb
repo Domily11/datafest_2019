{
 "cells": [
  {
   "cell_type": "markdown",
   "metadata": {},
   "source": [
    "# Python Exploration - Exercises\n",
    "\n",
    "This notebook contains exercises for the 2019 DataFest Python Exploration Workshop. <br>\n",
    "\n",
    "Solutions are contained in another notebook, but don't check yet! <br>\n",
    "\n",
    "Don't be afraid to ask questions or look online for guidance!"
   ]
  },
  {
   "cell_type": "code",
   "execution_count": 67,
   "metadata": {},
   "outputs": [],
   "source": [
    "import os\n",
    "import glob\n",
    "import pandas as pd\n",
    "import seaborn as sns\n",
    "import missingno as msno\n",
    "from functools import reduce"
   ]
  },
  {
   "cell_type": "code",
   "execution_count": 19,
   "metadata": {},
   "outputs": [],
   "source": [
    "# If necessary, replace this with the location of the data folder.\n",
    "data_folder = os.path.join(os.getcwd(),'..', 'data')"
   ]
  },
  {
   "cell_type": "code",
   "execution_count": 21,
   "metadata": {},
   "outputs": [],
   "source": [
    "# Read in the data directory\n",
    "file_path_list = glob.glob(os.path.join(data_folder, \"*.csv\"))\n",
    "datadict = {os.path.splitext(os.path.basename(file))[0]: pd.read_csv(file)\n",
    "           for file in file_path_list}\n"
   ]
  },
  {
   "cell_type": "code",
   "execution_count": 23,
   "metadata": {},
   "outputs": [
    {
     "name": "stdout",
     "output_type": "stream",
     "text": [
      "(1629108, 3)\n",
      "(1629108, 3)\n",
      "(1629108, 3)\n",
      "(1629108, 3)\n",
      "(1629108, 3)\n"
     ]
    }
   ],
   "source": [
    "# Do some pre-processing\n",
    "weather_desc_df = pd.melt(datadict['weather_description'], id_vars = ['datetime'], \n",
    "                          var_name='City', value_name='weather_descriptions')\n",
    "\n",
    "pressure_df = pd.melt(datadict['pressure'], id_vars = ['datetime'], \n",
    "                          var_name='City', value_name='pressure')\n",
    "\n",
    "\n",
    "wind_dir_df = pd.melt(datadict['wind_direction'], id_vars = ['datetime'], \n",
    "                          var_name='City', value_name='wind_direction')\n",
    "\n",
    "\n",
    "wind_sp_df = pd.melt(datadict['wind_speed'], id_vars = ['datetime'], \n",
    "                          var_name='City', value_name='wind_speed')\n",
    "\n",
    "\n",
    "temperature_df = pd.melt(datadict['temperature'], id_vars = ['datetime'], \n",
    "                          var_name='City', value_name='temperature')\n",
    "\n",
    "\n",
    "humidity_df = pd.melt(datadict['humidity'], id_vars = ['datetime'], \n",
    "                          var_name='City', value_name='humidity')\n",
    "\n",
    "print(pressure_df.shape)\n",
    "print(wind_dir_df.shape)\n",
    "print(wind_sp_df.shape)\n",
    "print(temperature_df.shape)\n",
    "print(humidity_df.shape)"
   ]
  },
  {
   "cell_type": "code",
   "execution_count": 24,
   "metadata": {},
   "outputs": [],
   "source": [
    "# Merge the data\n",
    "to_merge = [temperature_df, humidity_df, weather_desc_df]\n",
    "df_data = reduce(lambda left, right: pd.merge(left, right, on=['datetime', 'City'],\n",
    "                                             how='outer'), to_merge)\n",
    "df_data.head()"
   ]
  },
  {
   "cell_type": "markdown",
   "metadata": {},
   "source": [
    "# Exercise 1\n",
    "How many datetime observations were taken in Vancouver? <br>\n",
    "\n",
    "Hint: Use .loc[]"
   ]
  },
  {
   "cell_type": "markdown",
   "metadata": {},
   "source": [
    "# Exercise 2\n",
    "\n",
    "What was the most common weather description recorded in Vancouver?\n",
    "\n",
    "Hint: Look up usages for .value_counts()."
   ]
  },
  {
   "cell_type": "markdown",
   "metadata": {},
   "source": [
    "# Exercise 3\n",
    "\n",
    "What was the mean temperature across all cities with a weather description of \"broken clouds\"? <br>\n",
    "\n",
    "Hint: Try using .query(), or the aggregate function .mean()."
   ]
  },
  {
   "cell_type": "markdown",
   "metadata": {},
   "source": [
    "# Exercise 4\n",
    "\n",
    "Calculate the median temperatures in Denver for every year in the dataset. <br>\n",
    "\n",
    "Hint: Recall how to create a 'Year' column from a datetime column using pd.to_datetime. <br> \n",
    "Try to do this calculation for every year simultaneously, rather than year-by-year!\n"
   ]
  },
  {
   "cell_type": "markdown",
   "metadata": {},
   "source": [
    "# Exercise 5\n",
    "\n",
    "For records from the city of Miami, FL, which variable has the most missingness? <br>\n",
    "\n",
    "Hint: Try isnull()! You can also visualize this using the missingno package."
   ]
  },
  {
   "cell_type": "markdown",
   "metadata": {},
   "source": [
    "# Exercise 6\n",
    "For records from the city of Miami, what is the relationship between temperature and humidity? <br>\n",
    "Does there seem to be a strong relationship? <br>\n",
    "\n",
    "Hint: Try to plot a pairplot.\n"
   ]
  }
 ],
 "metadata": {
  "kernelspec": {
   "display_name": "Python 3",
   "language": "python",
   "name": "python3"
  },
  "language_info": {
   "codemirror_mode": {
    "name": "ipython",
    "version": 3
   },
   "file_extension": ".py",
   "mimetype": "text/x-python",
   "name": "python",
   "nbconvert_exporter": "python",
   "pygments_lexer": "ipython3",
   "version": "3.6.5"
  }
 },
 "nbformat": 4,
 "nbformat_minor": 2
}
