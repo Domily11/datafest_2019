{
 "cells": [
  {
   "cell_type": "markdown",
   "metadata": {},
   "source": [
    "# Introduction to Modeling in Python\n",
    "\n",
    "## Regression on the Diabetes Dataset"
   ]
  },
  {
   "cell_type": "code",
   "execution_count": null,
   "metadata": {},
   "outputs": [],
   "source": [
    "import pandas as pd\n",
    "from sklearn.datasets import load_boston\n",
    "\n",
    "data = load_boston()\n",
    "df = pd.DataFrame(data.data, columns = data.feature_names)\n",
    "df['target'] = data.target\n",
    "df.head()"
   ]
  },
  {
   "cell_type": "code",
   "execution_count": null,
   "metadata": {},
   "outputs": [],
   "source": [
    "print(data.DESCR)"
   ]
  },
  {
   "cell_type": "code",
   "execution_count": null,
   "metadata": {},
   "outputs": [],
   "source": [
    "from sklearn.model_selection import train_test_split\n",
    "\n",
    "X = data.data\n",
    "y = data.target\n",
    "\n",
    "X_train, X_test, y_train, y_test = train_test_split(X, y, test_size = 0.25)\n",
    "\n",
    "print(X_train.shape, y_train.shape, X_test.shape, y_test.shape)"
   ]
  },
  {
   "cell_type": "code",
   "execution_count": null,
   "metadata": {},
   "outputs": [],
   "source": [
    "import numpy as np\n",
    "from sklearn.linear_model import LinearRegression\n",
    "\n",
    "lin_reg = LinearRegression()\n",
    "lin_reg.fit(X_train, y_train)\n",
    "\n",
    "print(\n",
    "    np.round(lin_reg.coef_,1),\n",
    "    '\\n',\n",
    "    np.round(lin_reg.intercept_, 1)\n",
    ")"
   ]
  },
  {
   "cell_type": "code",
   "execution_count": null,
   "metadata": {},
   "outputs": [],
   "source": [
    "from sklearn.metrics import mean_squared_error\n",
    "y_pred = lin_reg.predict(X_test)\n",
    "\n",
    "print('R^2 Score:', lin_reg.score(X_test, y_test))\n",
    "print('Mean squared error: ', mean_squared_error(y_test, y_pred))"
   ]
  },
  {
   "cell_type": "code",
   "execution_count": null,
   "metadata": {},
   "outputs": [],
   "source": [
    "from sklearn.ensemble import RandomForestRegressor\n",
    "\n",
    "rf_reg = RandomForestRegressor(max_depth = 4)\n",
    "rf_reg.fit(X_train, y_train)\n",
    "y_pred_rf = rf_reg.predict(X_test)\n",
    "print(rf_reg.feature_importances_)\n",
    "print('\\nR^2 Score:', rf_reg.score(X_test, y_test))\n",
    "print('Mean squared error: ', mean_squared_error(y_test, y_pred_rf))"
   ]
  },
  {
   "cell_type": "code",
   "execution_count": null,
   "metadata": {},
   "outputs": [],
   "source": [
    "from sklearn.model_selection import GridSearchCV\n",
    "from sklearn.ensemble import RandomForestRegressor\n",
    "np.random.seed(42)\n",
    "\n",
    "rf_reg = RandomForestRegressor()\n",
    "rf_params = {'n_estimators': [10 ,15],\n",
    "             'criterion':['mse', 'mae'],\n",
    "             'max_leaf_nodes': [10, 15],\n",
    "             'max_depth': [4, 5], \n",
    "             'min_samples_split': [4, 5],\n",
    "             'max_features': [5, 6]}\n",
    "\n",
    "grid_search = GridSearchCV(rf_reg, rf_params)\n",
    "grid_search.fit(X_train, y_train)\n",
    "best_rf = grid_search.best_estimator_\n",
    "print(best_rf)\n",
    "best_rf.score(X_test, y_test)"
   ]
  },
  {
   "cell_type": "markdown",
   "metadata": {},
   "source": [
    "## Classification on the Wine Dataset"
   ]
  },
  {
   "cell_type": "code",
   "execution_count": null,
   "metadata": {},
   "outputs": [],
   "source": [
    "from sklearn.datasets import load_wine\n",
    "\n",
    "wine = load_wine()\n",
    "wine_df = pd.DataFrame(wine.data, columns = wine.feature_names)\n",
    "wine_df['target'] = wine.target\n",
    "wine_df.head()"
   ]
  },
  {
   "cell_type": "code",
   "execution_count": null,
   "metadata": {},
   "outputs": [],
   "source": [
    "print(wine.DESCR)"
   ]
  },
  {
   "cell_type": "code",
   "execution_count": null,
   "metadata": {},
   "outputs": [],
   "source": [
    "X = wine.data\n",
    "y = wine.target\n",
    "\n",
    "X_train, X_test, y_train, y_test = train_test_split(X, y, test_size = 0.25, stratify = y)\n",
    "print(X_train.shape, y_train.shape, X_test.shape, y_test.shape)"
   ]
  },
  {
   "cell_type": "code",
   "execution_count": null,
   "metadata": {},
   "outputs": [],
   "source": [
    "from sklearn.linear_model import LogisticRegression\n",
    "\n",
    "log_reg = LogisticRegression()\n",
    "log_reg.fit(X_train, y_train)\n",
    "\n",
    "print(\n",
    "    np.round(log_reg.coef_, 2), \n",
    "    '\\n',\n",
    "    np.round(log_reg.intercept_)\n",
    ")"
   ]
  },
  {
   "cell_type": "code",
   "execution_count": null,
   "metadata": {},
   "outputs": [],
   "source": [
    "from sklearn.metrics import confusion_matrix, classification_report\n",
    "\n",
    "print('Accuracy: ', log_reg.score(X_test, y_test))\n",
    "y_pred = log_reg.predict(X_test)\n",
    "\n",
    "conf_matrix = confusion_matrix(y_test, y_pred)\n",
    "print('\\nConfusion Matrix:\\n', \n",
    "      pd.DataFrame(\n",
    "          confusion_matrix(y_test, y_pred), \n",
    "          columns = ['pred: 0', 'pred: 1', 'pred: 2'],\n",
    "          index = ['true: 0', 'true: 1', 'true: 2']), \n",
    "      '\\n\\nClassification Report:\\n', \n",
    "      classification_report(y_test, y_pred))"
   ]
  },
  {
   "cell_type": "markdown",
   "metadata": {},
   "source": [
    "### Challenges"
   ]
  },
  {
   "cell_type": "code",
   "execution_count": null,
   "metadata": {
    "collapsed": true
   },
   "outputs": [],
   "source": [
    "# load data\n",
    "city_attributes = pd.read_csv('../../data/historical-hourly-weather-data/city_attributes.csv')\n",
    "humidity = pd.read_csv('../../data/historical-hourly-weather-data/humidity.csv')\n",
    "pressure = pd.read_csv('../../data/historical-hourly-weather-data/pressure.csv')\n",
    "temperature = pd.read_csv('../../data/historical-hourly-weather-data/temperature.csv')\n",
    "weather_description = pd.read_csv('../../data/historical-hourly-weather-data/weather_description.csv')\n",
    "wind_direction = pd.read_csv('../../data/historical-hourly-weather-data/wind_direction.csv')\n",
    "wind_speed = pd.read_csv('../../data/historical-hourly-weather-data/wind_speed.csv')\n",
    "\n",
    "# besides the first dataframe, the data look a lot like this:\n",
    "humidity.head()"
   ]
  },
  {
   "cell_type": "code",
   "execution_count": null,
   "metadata": {},
   "outputs": [],
   "source": [
    "# we can reshape these using pd.melt\n",
    "humidity = pd.melt(humidity, id_vars = ['datetime'], value_name = 'humidity', var_name = 'City')\n",
    "pressure = pd.melt(pressure, id_vars = ['datetime'], value_name = 'pressure', var_name = 'City')\n",
    "temperature = pd.melt(temperature, id_vars = ['datetime'], value_name = 'temperature', var_name = 'City')\n",
    "weather_description = pd.melt(weather_description, id_vars = ['datetime'], value_name = 'weather_description', var_name = 'City')\n",
    "wind_direction = pd.melt(wind_direction, id_vars = ['datetime'], value_name = 'wind_direction', var_name = 'City')\n",
    "wind_speed = pd.melt(wind_speed, id_vars = ['datetime'], value_name = 'wind_speed', var_name = 'City')\n",
    "\n",
    "humidity.head()"
   ]
  },
  {
   "cell_type": "code",
   "execution_count": null,
   "metadata": {},
   "outputs": [],
   "source": [
    "# combine all of the dataframes created above \n",
    "weather = pd.concat([humidity, pressure, temperature, weather_description, wind_direction, wind_speed], axis = 1)\n",
    "weather = weather.loc[:,~weather.columns.duplicated()] # indexing: every row, only the columns that aren't duplicates\n",
    "weather.head()"
   ]
  },
  {
   "cell_type": "code",
   "execution_count": null,
   "metadata": {},
   "outputs": [],
   "source": [
    "# now we can merge this with the city attributes\n",
    "weather = pd.merge(weather, city_attributes, on = 'City')\n",
    "weather.head()"
   ]
  },
  {
   "cell_type": "code",
   "execution_count": null,
   "metadata": {},
   "outputs": [],
   "source": [
    "# create a variable for binary classification \n",
    "weather['weather_binary'] = np.where(weather['weather_description'].isin([\"sky is clear\", \"broken clouds\", \"few clouds\", \n",
    "                                                  \"scattered clouds\", \"overcast clouds\"]), 'good', 'bad')\n",
    "\n",
    "# create a variable for multi-classification\n",
    "conditions = [\n",
    "    (weather['weather_description'].isin([\"drizzle\", \"freezing_rain\", \"heavy intensity drizzle\", \n",
    "                                          \"heavy intensity rain\", \"heavy intensity shower rain\", \n",
    "                                          \"light intensity drizzle\", \"light intensity drizzle rain\", \n",
    "                                          \"light intensity shower rain\", \"light rain\", \"light shower rain\", \n",
    "                                          \"moderate rain\", \"proximity moderate rain\", \"ragged shower rain\", \n",
    "                                          \"shower drizzle\", \"very heavy rain\", \"proximity shower rain\"])),\n",
    "    (weather['weather_description'].isin([\"broken clouds\", \"overcast clouds\", \"scattered clouds\", \"few clouds\"])),\n",
    "    (weather['weather_description'].isin([\"heavy snow\", \"light rain and snow\", \"light shower sleet\", \"light snow\", \n",
    "                                          \"rain and snow\", \"shower snow\", \"sleet\", \"snow\", \"heavy shower snow\"])), \n",
    "    (weather['weather_description'].isin([\"thunderstorm with drizzle\", \"thunderstorm with heavy drizzle\", \n",
    "                                          \"thunderstorm with light drizzle\", \"thunderstorm with rain\", \n",
    "                                          \"thunderstorm with light rain\", \"heavy thunderstorm\", \n",
    "                                          \"proximity thunderstorm\", \"proximity thunderstorm with drizzle\", \n",
    "                                          \"proximity thunderstorm with rain\", \"proximity thunderstorm\", \n",
    "                                          \"thunderstorm\", \"ragged thunderstorm\"])),\n",
    "    (weather['weather_description'].isin([\"sky is clear\"]))]\n",
    "     \n",
    "choices = ['rain', 'cloudy', 'snow', 'thunder', 'clear']\n",
    "weather['weather_broad'] = np.select(conditions, choices, default='other')\n",
    "\n",
    "# sklearn models won't work with NaN values. There are a whole suite of imputation techniques used to replace empty \n",
    "# values with the most appropriate estimate, but for the sake of these challenges, we'll just remove these cases.\n",
    "\n",
    "weather = weather.dropna()\n",
    "weather.head()"
   ]
  },
  {
   "cell_type": "markdown",
   "metadata": {},
   "source": [
    "### Classification"
   ]
  },
  {
   "cell_type": "markdown",
   "metadata": {
    "collapsed": true
   },
   "source": [
    "**Exercise 1** \n",
    "\n",
    "Fit a classification model of your choice to predict `weather_binary`, and interpret its confusion matrix when applied to held-out testing data. How would you judge the model's performance? Justify your answer. "
   ]
  },
  {
   "cell_type": "code",
   "execution_count": null,
   "metadata": {},
   "outputs": [],
   "source": []
  },
  {
   "cell_type": "markdown",
   "metadata": {},
   "source": [
    "**Exercise 2** \n",
    "\n",
    "Fit a classification model of your choice to predict `weather_broad`. Explain the model's performance, and how your interpretation of its confusion matrix changes in a multi-class scenario.  "
   ]
  },
  {
   "cell_type": "code",
   "execution_count": null,
   "metadata": {
    "collapsed": true
   },
   "outputs": [],
   "source": []
  },
  {
   "cell_type": "markdown",
   "metadata": {},
   "source": [
    "### Regression"
   ]
  },
  {
   "cell_type": "markdown",
   "metadata": {
    "collapsed": true
   },
   "source": [
    "For the following exercises, choose a continuous variable of interest in the dataset (for example, `temperature`).\n",
    "\n",
    "**Exercise 3** \n",
    "\n",
    "For your variable of choice, fit a linear regression model using only the single variable that best explains it (how could you figure this out from the data at hand?). Perform any necessary diagnostics or analysis required to make a conclusion about its interpretation and performance. How does this change if more variables are added? Why do you think that is? "
   ]
  },
  {
   "cell_type": "code",
   "execution_count": null,
   "metadata": {
    "collapsed": true
   },
   "outputs": [],
   "source": []
  },
  {
   "cell_type": "markdown",
   "metadata": {
    "collapsed": true
   },
   "source": [
    "**Exercise 4** \n",
    "\n",
    "Try picking a different variable than the one selected before, and use a regression method of your choice to predict it. What is the MSE on test data, and how do you interpret it? "
   ]
  },
  {
   "cell_type": "code",
   "execution_count": null,
   "metadata": {
    "collapsed": true
   },
   "outputs": [],
   "source": []
  },
  {
   "cell_type": "markdown",
   "metadata": {},
   "source": [
    "### Conclusion"
   ]
  },
  {
   "cell_type": "markdown",
   "metadata": {
    "collapsed": true
   },
   "source": [
    "In these exercises, we practiced techniques introduced in the lecture portion of the workshop on a dataset similar to what you might see during DataFest 2019. However, we were only able to cover a small portion of what modeling fully entails, and in the real world it is common for the success of a model to be driven by many factors external to which algorithm or hyperparameters were chosen. A common issue is data scarcity or quality - as is often said in regards to a machine learning model, \"garbage in, garbage out\". Oftentimes (but not always!) it is much more helpful to consider the bigger picture of the analysis at hand rather than the minutia involved in model performance.\n",
    "\n",
    "\n",
    "**Exercise 5** \n",
    "\n",
    "Can you imagine any other ways in which modeling the weather could be helpful, and potential targets to predict given the dataset at hand? If you could have additional or different data to help in this task, what would you choose? Given the models created during this workshop, how would you recommend they be applied to a real-world problem? "
   ]
  },
  {
   "cell_type": "code",
   "execution_count": null,
   "metadata": {
    "collapsed": true
   },
   "outputs": [],
   "source": []
  }
 ],
 "metadata": {
  "kernelspec": {
   "display_name": "Python 3",
   "language": "python",
   "name": "python3"
  },
  "language_info": {
   "codemirror_mode": {
    "name": "ipython",
    "version": 3
   },
   "file_extension": ".py",
   "mimetype": "text/x-python",
   "name": "python",
   "nbconvert_exporter": "python",
   "pygments_lexer": "ipython3",
   "version": "3.6.1"
  }
 },
 "nbformat": 4,
 "nbformat_minor": 2
}
