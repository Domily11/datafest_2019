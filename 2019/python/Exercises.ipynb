{
 "cells": [
  {
   "cell_type": "code",
   "execution_count": 17,
   "metadata": {},
   "outputs": [
    {
     "data": {
      "text/plain": [
       "'Exercises for Datafest 2019 Data Exploration workshop\\nPurpose: Each exercise should allow the participants to gain experience\\nin at least one ... Participants should also learn that looking for guidance\\non stackoverflow and related sources is completely okay!'"
      ]
     },
     "execution_count": 17,
     "metadata": {},
     "output_type": "execute_result"
    }
   ],
   "source": [
    "'''Exercises for Datafest 2019 Data Exploration workshop\n",
    "Purpose: Each exercise should allow the participants to gain experience\n",
    "in at least one ... Participants should also learn that looking for guidance\n",
    "on stackoverflow and related sources is completely okay!'''"
   ]
  },
  {
   "cell_type": "code",
   "execution_count": 18,
   "metadata": {},
   "outputs": [],
   "source": [
    "import os\n",
    "import glob\n",
    "import pandas as pd\n",
    "from functools import reduce"
   ]
  },
  {
   "cell_type": "code",
   "execution_count": 19,
   "metadata": {},
   "outputs": [],
   "source": [
    "data_folder = os.path.join(os.getcwd(),'..', 'data')"
   ]
  },
  {
   "cell_type": "code",
   "execution_count": 21,
   "metadata": {},
   "outputs": [],
   "source": [
    "# Read in the data directory\n",
    "file_path_list = glob.glob(os.path.join(data_folder, \"*.csv\"))\n",
    "datadict = {os.path.splitext(os.path.basename(file))[0]: pd.read_csv(file)\n",
    "           for file in file_path_list}\n"
   ]
  },
  {
   "cell_type": "code",
   "execution_count": 22,
   "metadata": {},
   "outputs": [
    {
     "name": "stdout",
     "output_type": "stream",
     "text": [
      "city_attributes (36, 4)\n",
      "humidity (45253, 37)\n",
      "pressure (45253, 37)\n",
      "temperature (45253, 37)\n",
      "weather_description (45253, 37)\n",
      "wind_direction (45253, 37)\n",
      "wind_speed (45253, 37)\n"
     ]
    }
   ],
   "source": [
    "for df_name, val in datadict.items():\n",
    "    print(df_name, val.shape)"
   ]
  },
  {
   "cell_type": "code",
   "execution_count": 23,
   "metadata": {},
   "outputs": [
    {
     "name": "stdout",
     "output_type": "stream",
     "text": [
      "(1629108, 3)\n",
      "(1629108, 3)\n",
      "(1629108, 3)\n",
      "(1629108, 3)\n",
      "(1629108, 3)\n"
     ]
    }
   ],
   "source": [
    "weather_desc_df = pd.melt(datadict['weather_description'], id_vars = ['datetime'], \n",
    "                          var_name='City', value_name='weather_descriptions')\n",
    "\n",
    "pressure_df = pd.melt(datadict['pressure'], id_vars = ['datetime'], \n",
    "                          var_name='City', value_name='pressure')\n",
    "\n",
    "\n",
    "wind_dir_df = pd.melt(datadict['wind_direction'], id_vars = ['datetime'], \n",
    "                          var_name='City', value_name='wind_direction')\n",
    "\n",
    "\n",
    "wind_sp_df = pd.melt(datadict['wind_speed'], id_vars = ['datetime'], \n",
    "                          var_name='City', value_name='wind_speed')\n",
    "\n",
    "\n",
    "temperature_df = pd.melt(datadict['temperature'], id_vars = ['datetime'], \n",
    "                          var_name='City', value_name='temperature')\n",
    "\n",
    "\n",
    "humidity_df = pd.melt(datadict['humidity'], id_vars = ['datetime'], \n",
    "                          var_name='City', value_name='humidity')\n",
    "\n",
    "print(pressure_df.shape)\n",
    "print(wind_dir_df.shape)\n",
    "print(wind_sp_df.shape)\n",
    "print(temperature_df.shape)\n",
    "print(humidity_df.shape)"
   ]
  },
  {
   "cell_type": "code",
   "execution_count": null,
   "metadata": {},
   "outputs": [],
   "source": [
    "'''\n",
    "Exercise 1.a.:\n",
    "Merge the temperature, humidity and weather description dataframes\n",
    "'''"
   ]
  },
  {
   "cell_type": "code",
   "execution_count": 24,
   "metadata": {},
   "outputs": [],
   "source": [
    "to_merge = [temperature_df, humidity_df, weather_desc_df]\n",
    "df_data = reduce(lambda left, right: pd.merge(left, right, on=['datetime', 'City'],\n",
    "                                             how='outer'), to_merge)\n",
    "# Result: "
   ]
  },
  {
   "cell_type": "code",
   "execution_count": 25,
   "metadata": {},
   "outputs": [
    {
     "data": {
      "text/html": [
       "<div>\n",
       "<style scoped>\n",
       "    .dataframe tbody tr th:only-of-type {\n",
       "        vertical-align: middle;\n",
       "    }\n",
       "\n",
       "    .dataframe tbody tr th {\n",
       "        vertical-align: top;\n",
       "    }\n",
       "\n",
       "    .dataframe thead th {\n",
       "        text-align: right;\n",
       "    }\n",
       "</style>\n",
       "<table border=\"1\" class=\"dataframe\">\n",
       "  <thead>\n",
       "    <tr style=\"text-align: right;\">\n",
       "      <th></th>\n",
       "      <th>datetime</th>\n",
       "      <th>City</th>\n",
       "      <th>temperature</th>\n",
       "      <th>humidity</th>\n",
       "      <th>weather_descriptions</th>\n",
       "    </tr>\n",
       "  </thead>\n",
       "  <tbody>\n",
       "    <tr>\n",
       "      <th>0</th>\n",
       "      <td>2012-10-01 12:00:00</td>\n",
       "      <td>Vancouver</td>\n",
       "      <td>NaN</td>\n",
       "      <td>NaN</td>\n",
       "      <td>NaN</td>\n",
       "    </tr>\n",
       "    <tr>\n",
       "      <th>1</th>\n",
       "      <td>2012-10-01 13:00:00</td>\n",
       "      <td>Vancouver</td>\n",
       "      <td>284.630000</td>\n",
       "      <td>76.0</td>\n",
       "      <td>mist</td>\n",
       "    </tr>\n",
       "    <tr>\n",
       "      <th>2</th>\n",
       "      <td>2012-10-01 14:00:00</td>\n",
       "      <td>Vancouver</td>\n",
       "      <td>284.629041</td>\n",
       "      <td>76.0</td>\n",
       "      <td>broken clouds</td>\n",
       "    </tr>\n",
       "    <tr>\n",
       "      <th>3</th>\n",
       "      <td>2012-10-01 15:00:00</td>\n",
       "      <td>Vancouver</td>\n",
       "      <td>284.626998</td>\n",
       "      <td>76.0</td>\n",
       "      <td>broken clouds</td>\n",
       "    </tr>\n",
       "    <tr>\n",
       "      <th>4</th>\n",
       "      <td>2012-10-01 16:00:00</td>\n",
       "      <td>Vancouver</td>\n",
       "      <td>284.624955</td>\n",
       "      <td>77.0</td>\n",
       "      <td>broken clouds</td>\n",
       "    </tr>\n",
       "  </tbody>\n",
       "</table>\n",
       "</div>"
      ],
      "text/plain": [
       "              datetime       City  temperature  humidity weather_descriptions\n",
       "0  2012-10-01 12:00:00  Vancouver          NaN       NaN                  NaN\n",
       "1  2012-10-01 13:00:00  Vancouver   284.630000      76.0                 mist\n",
       "2  2012-10-01 14:00:00  Vancouver   284.629041      76.0        broken clouds\n",
       "3  2012-10-01 15:00:00  Vancouver   284.626998      76.0        broken clouds\n",
       "4  2012-10-01 16:00:00  Vancouver   284.624955      77.0        broken clouds"
      ]
     },
     "execution_count": 25,
     "metadata": {},
     "output_type": "execute_result"
    }
   ],
   "source": [
    "df_data.head()"
   ]
  },
  {
   "cell_type": "code",
   "execution_count": null,
   "metadata": {},
   "outputs": [],
   "source": [
    "'''\n",
    "Exercise 1.b.: \n",
    "How many datetime observations were taken in Vancouver?\n",
    "'''"
   ]
  },
  {
   "cell_type": "code",
   "execution_count": 33,
   "metadata": {},
   "outputs": [],
   "source": [
    "df_van = df_data.loc[df_data['City']=='Vancouver']"
   ]
  },
  {
   "cell_type": "code",
   "execution_count": 35,
   "metadata": {},
   "outputs": [
    {
     "data": {
      "text/plain": [
       "(45253, 5)"
      ]
     },
     "execution_count": 35,
     "metadata": {},
     "output_type": "execute_result"
    }
   ],
   "source": [
    "df_van.shape"
   ]
  },
  {
   "cell_type": "code",
   "execution_count": null,
   "metadata": {},
   "outputs": [],
   "source": [
    "'''\n",
    "Exercise 1.c.:\n",
    "What was the most common weather description recorded in Vancouver?\n",
    "'''"
   ]
  },
  {
   "cell_type": "code",
   "execution_count": 37,
   "metadata": {},
   "outputs": [
    {
     "data": {
      "text/plain": [
       "sky is clear       12805\n",
       "light rain          5569\n",
       "overcast clouds     4676\n",
       "broken clouds       4489\n",
       "mist                3588\n",
       "Name: weather_descriptions, dtype: int64"
      ]
     },
     "execution_count": 37,
     "metadata": {},
     "output_type": "execute_result"
    }
   ],
   "source": [
    "df_van['weather_descriptions'].value_counts().head()"
   ]
  },
  {
   "cell_type": "code",
   "execution_count": null,
   "metadata": {},
   "outputs": [],
   "source": [
    "'''\n",
    "Exercise 1.d.: ???\n",
    "What was the mean temperature in all cities with a weather description of \"broken clouds\"?\n",
    "'''"
   ]
  },
  {
   "cell_type": "code",
   "execution_count": null,
   "metadata": {},
   "outputs": [],
   "source": [
    "'''\n",
    "Exercise 2.a.:\n",
    "Something with imputation, e.g. with median\n",
    "Impute categorical variables with the model a,d numeric (int or float) variables with the median\n",
    "Add sub questions\n",
    "'''"
   ]
  },
  {
   "cell_type": "code",
   "execution_count": null,
   "metadata": {},
   "outputs": [],
   "source": [
    "'''\n",
    "Exercise 3.a.\n",
    "Something with timestamp data\n",
    "'''"
   ]
  },
  {
   "cell_type": "code",
   "execution_count": null,
   "metadata": {},
   "outputs": [],
   "source": [
    "'''\n",
    "Exercise 3.b.\n",
    "Something totally open-ended (maybe not \"come up with your own question\", they're already doing that),\n",
    "e.g. For three countries of your choosing, visualize changes in wind speed over time.\n",
    "'''"
   ]
  }
 ],
 "metadata": {
  "kernelspec": {
   "display_name": "Python 3",
   "language": "python",
   "name": "python3"
  },
  "language_info": {
   "codemirror_mode": {
    "name": "ipython",
    "version": 3
   },
   "file_extension": ".py",
   "mimetype": "text/x-python",
   "name": "python",
   "nbconvert_exporter": "python",
   "pygments_lexer": "ipython3",
   "version": "3.6.5"
  }
 },
 "nbformat": 4,
 "nbformat_minor": 2
}
